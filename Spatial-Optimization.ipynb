{
 "cells": [
  {
   "cell_type": "markdown",
   "metadata": {},
   "source": [
    "## Spatial Optimization"
   ]
  },
  {
   "cell_type": "markdown",
   "metadata": {},
   "source": [
    "The travelling salesman problem asks the following question: \"Given a list of cities and the distances between each pair of cities, what is the shortest possible route that visits each city and returns to the origin city?\" \n",
    "\n",
    "\n",
    "\n"
   ]
  },
  {
   "cell_type": "code",
   "execution_count": null,
   "metadata": {
    "collapsed": true
   },
   "outputs": [],
   "source": []
  },
  {
   "cell_type": "code",
   "execution_count": 54,
   "metadata": {
    "collapsed": false
   },
   "outputs": [
    {
     "name": "stdout",
     "output_type": "stream",
     "text": [
      "Total distance: 891 km\n",
      "\n",
      "Route:\n",
      "\n",
      "115 St Andrews  -> 9 Margaret Street -> 67 Boshoff Street -> 16 Poort Road -> 166 Kerk Street -> 4 Paul Avenue -> 115 St Andrews \n"
     ]
    }
   ],
   "source": [
    "from ortools.constraint_solver import pywrapcp\n",
    "from ortools.constraint_solver import routing_enums_pb2\n",
    "\n",
    "# Distance callback\n",
    "def create_distance_callback(dist_matrix):\n",
    "  # Create a callback to calculate distances between cities.\n",
    "\n",
    "  def distance_callback(from_node, to_node):\n",
    "    return int(dist_matrix[from_node][to_node])\n",
    "\n",
    "  return distance_callback\n",
    "\n",
    "def main():\n",
    "  # Cities\n",
    "  city_names = [\"115 St Andrews \", \"67 Boshoff Street\", \"4 Paul Avenue\", \"166 Kerk Street\", \"9 Margaret Street\",\n",
    "                \"16 Poort Road\"]\n",
    "  # Distance matrix\n",
    "  dist_matrix = [\n",
    "    [   0, 90.4, 153, 305, 148, 249], # 115 St Andrews\n",
    "    [90.4,    0, 260, 299,  86.0,  161], # 67 Boshoff Street\n",
    "    [ 153, 260,    0,  200,  293, 327], # 4 Paul Avenue\n",
    "    [305, 299,  200,    0, 389 ,  143], # 166 Kerk Street\n",
    "    [148,  86.0, 293 , 389,    0,  253], # 9 Margaret Street\n",
    "    [249, 161,  327,  143,  253,    0]] # 16 Poort Road\n",
    "\n",
    "  tsp_size = len(city_names)\n",
    "  num_routes = 1\n",
    "  depot = 0\n",
    "\n",
    "  # Create routing model\n",
    "  if tsp_size > 0:\n",
    "    routing = pywrapcp.RoutingModel(tsp_size, num_routes, depot)\n",
    "    search_parameters = pywrapcp.RoutingModel.DefaultSearchParameters()\n",
    "    # Create the distance callback.\n",
    "    dist_callback = create_distance_callback(dist_matrix)\n",
    "    routing.SetArcCostEvaluatorOfAllVehicles(dist_callback)\n",
    "    # Solve the problem.\n",
    "    assignment = routing.SolveWithParameters(search_parameters)\n",
    "    if assignment:\n",
    "      # Solution distance.\n",
    "      print \"Total distance: \" + str(assignment.ObjectiveValue()) + \" km\\n\"\n",
    "      # Display the solution.\n",
    "      # Only one route here; otherwise iterate from 0 to routing.vehicles() - 1\n",
    "      route_number = 0\n",
    "      index = routing.Start(route_number) # Index of the variable for the starting node.\n",
    "      route = ''\n",
    "      while not routing.IsEnd(index):\n",
    "        # Convert variable indices to node indices in the displayed route.\n",
    "        route += str(city_names[routing.IndexToNode(index)]) + ' -> ' \n",
    "        index = assignment.Value(routing.NextVar(index))\n",
    "      route += str(city_names[routing.IndexToNode(index)])\n",
    "      print \"Route:\\n\\n\" + route\n",
    "    else:\n",
    "      print 'No solution found.'\n",
    "  else:\n",
    "    print 'Specify an instance greater than 0.'\n",
    "\n",
    "if __name__ == '__main__':\n",
    "  main()"
   ]
  },
  {
   "cell_type": "code",
   "execution_count": null,
   "metadata": {
    "collapsed": true
   },
   "outputs": [],
   "source": []
  }
 ],
 "metadata": {
  "kernelspec": {
   "display_name": "Python 2",
   "language": "python",
   "name": "python2"
  },
  "language_info": {
   "codemirror_mode": {
    "name": "ipython",
    "version": 2
   },
   "file_extension": ".py",
   "mimetype": "text/x-python",
   "name": "python",
   "nbconvert_exporter": "python",
   "pygments_lexer": "ipython2",
   "version": "2.7.13"
  }
 },
 "nbformat": 4,
 "nbformat_minor": 2
}
