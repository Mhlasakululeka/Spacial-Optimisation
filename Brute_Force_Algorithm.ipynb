{
 "cells": [
  {
   "cell_type": "markdown",
   "metadata": {},
   "source": [
    "### Brute Force Algorithm"
   ]
  },
  {
   "cell_type": "code",
   "execution_count": 5,
   "metadata": {},
   "outputs": [],
   "source": [
    "# The brute force solution is simply to calculate the total distance for every possible route and then select the shortest one. \n",
    "#This is not particularly efficient because it is possible to eliminate many possible routes through clever algorithms.\n",
    "\n",
    "#The time complexity of brute force is O(n*m) ."
   ]
  },
  {
   "cell_type": "code",
   "execution_count": 6,
   "metadata": {},
   "outputs": [],
   "source": [
    "import itertools\n",
    "import numpy as np\n",
    "# Distance matrix\n",
    "dist_matrix = [\n",
    "    [   0, 90.4, 153, 305, 148, 249], # 115 St Andrews\n",
    "    [90.4,    0, 260, 299,  86.0,  161], # 67 Boshoff Street\n",
    "    [ 153, 260,    0,  200,  293, 327], # 4 Paul Avenue\n",
    "    [305, 299,  200,    0, 389 ,  143], # 166 Kerk Street\n",
    "    [148,  86.0, 293 , 389,    0,  253], # 9 Margaret Street\n",
    "    [249, 161,  327,  143,  253,    0]] # 16 Poort Road\n",
    "\n",
    "optimal_length = np.inf\n",
    "location_size, distances = 6, dist_matrix  # n and distance represent size of the location and distance\n",
    "                                           # matrix between the locations"
   ]
  },
  {
   "cell_type": "code",
   "execution_count": 3,
   "metadata": {},
   "outputs": [
    {
     "name": "stdout",
     "output_type": "stream",
     "text": [
      "('The optimal tour is:', (0, 2, 3, 5, 1, 4, 0))\n",
      "('It has a length of:\\xe2\\x80\\x99', 891.0, 'km')\n"
     ]
    }
   ],
   "source": [
    "optimal_tour = []\n",
    "for tour in itertools.permutations(list(range (1,location_size))):\n",
    "    fr = 0\n",
    "    length = 0\n",
    "    count = 0\n",
    "    while count < location_size-1:\n",
    "        to = tour[count]\n",
    "        length += distances[fr][to]\n",
    "        fr = to\n",
    "        count += 1\n",
    "    length += distances[fr][0]\n",
    "    if length < optimal_length:\n",
    "        optimal_length = length\n",
    "        optimal_tour = tour\n",
    "optimal_tour = (0,) + optimal_tour + (0,)\n",
    "print ('The optimal tour is:', optimal_tour )\n",
    "print ('It has a length of:’', optimal_length , 'km')"
   ]
  },
  {
   "cell_type": "markdown",
   "metadata": {},
   "source": [
    "#### (0) 115 St Andrews  -> (2)  4 Paul Avenue -> (3) 166 Kerk Street -> (5) 16 Poort Road  -> (1) 67 Boshoff Street67 ->(4) 9 Margaret (1) Street -> 115 St Andrews"
   ]
  },
  {
   "cell_type": "code",
   "execution_count": 4,
   "metadata": {},
   "outputs": [
    {
     "data": {
      "text/html": [
       "<img src=\"Optimal_Tour.png\" width=\"600\" height=\"600\"/>"
      ],
      "text/plain": [
       "<IPython.core.display.Image object>"
      ]
     },
     "execution_count": 4,
     "metadata": {},
     "output_type": "execute_result"
    }
   ],
   "source": [
    "from IPython.display import Image\n",
    "img = 'Optimal_Tour.png'\n",
    "Image(url=img, width=600, height=600)\n"
   ]
  },
  {
   "cell_type": "code",
   "execution_count": null,
   "metadata": {},
   "outputs": [],
   "source": []
  }
 ],
 "metadata": {
  "kernelspec": {
   "display_name": "Python 3",
   "language": "python",
   "name": "python3"
  },
  "language_info": {
   "codemirror_mode": {
    "name": "ipython",
    "version": 2
   },
   "file_extension": ".py",
   "mimetype": "text/x-python",
   "name": "python",
   "nbconvert_exporter": "python",
   "pygments_lexer": "ipython2",
   "version": "2.7.13"
  }
 },
 "nbformat": 4,
 "nbformat_minor": 2
}
